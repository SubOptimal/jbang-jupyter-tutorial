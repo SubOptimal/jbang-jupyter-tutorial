{
 "cells": [
  {
   "attachments": {},
   "cell_type": "markdown",
   "metadata": {},
   "source": [
    "# Trying out Java\n",
    "\n",
    "This notebook shows you how to get started with Java in a few minutes using [JBang](https://jbang.dev).  \n",
    "\n",
    "Java has a reputation of being complex and difficult to learn and difficult to setup.  This is not true (anymore).\n",
    "\n",
    "Enjoy!"
   ]
  },
  {
   "attachments": {},
   "cell_type": "markdown",
   "metadata": {},
   "source": [
    "## Install/Setup JBang\n",
    "\n",
    "Lets start by installing `jbang`. The following will attempt to install `jbang` for you using `curl` on Linux/OSX or `PowerShell` on Windows + setting up PATH so the `jbang` command is visible to the notebook. \n",
    "\n",
    "If the install does not work for you, please see the [JBang download page](https://jbang.dev/download) for other options."
   ]
  },
  {
   "cell_type": "code",
   "execution_count": null,
   "metadata": {},
   "outputs": [],
   "source": [
    "import os\n",
    "\n",
    "if os.name == 'nt':\n",
    "    !iex \"& { $(iwr https://ps.jbang.dev) } app setup\"\n",
    "else:\n",
    "    !curl -Ls https://sh.jbang.dev | bash -s - app setup\n",
    "\n",
    "os.environ[\"PATH\"] = os.path.expanduser('~/.jbang/bin') + os.pathsep + os.environ[\"PATH\"]"
   ]
  },
  {
   "attachments": {},
   "cell_type": "markdown",
   "metadata": {},
   "source": [
    "The modified PATH will only be visible to this notebook. JBang will have modified the environment so if you open a terminal `jbang` should be available there as well."
   ]
  },
  {
   "attachments": {},
   "cell_type": "markdown",
   "metadata": {},
   "source": [
    "## Verify JBang is installed\n",
    "\n",
    "Now lets verify that `jbang` is installed and working.  The following block will attempt to run `jbang` and print out the version.  If you see a version number, you are good to go."
   ]
  },
  {
   "cell_type": "code",
   "execution_count": null,
   "metadata": {},
   "outputs": [],
   "source": [
    "!jbang version"
   ]
  },
  {
   "attachments": {},
   "cell_type": "markdown",
   "metadata": {},
   "source": [
    "## How about Java installation ?\n",
    "\n",
    "JBang will automatically use the latest Java version available on your system.  If no suitable Java version is found, it will download and install one for you."
   ]
  },
  {
   "attachments": {},
   "cell_type": "markdown",
   "metadata": {},
   "source": [
    "## Lets try out Java\n",
    "\n",
    "Now lets try out Java.  The following block will attempt to run a simple Java program using `jbang`.  The smallest `Hello World` program you can write in Java!"
   ]
  },
  {
   "cell_type": "code",
   "execution_count": null,
   "metadata": {},
   "outputs": [],
   "source": [
    "!jbang -c 'println(\"Hello World!\")'"
   ]
  },
  {
   "attachments": {},
   "cell_type": "markdown",
   "metadata": {},
   "source": [
    "### Arguments \n",
    "\n",
    "You can pass arguments to the program by adding them after the code.  The following block will pass the arguments `Universe` and use `String.format()` to render a string with the first argument in the `args` array."
   ]
  },
  {
   "cell_type": "code",
   "execution_count": null,
   "metadata": {},
   "outputs": [],
   "source": [
    "!jbang -c 'println(String.format(\"Hello %s\", args[0]))' Universe"
   ]
  },
  {
   "attachments": {},
   "cell_type": "markdown",
   "metadata": {},
   "source": [
    "## First Java program\n",
    "\n",
    "Now lets try creating a Java program that use library dependencies to do something more useful.  The following block will create a file called `hello.java` that uses the [Picocli](https://picocli.info) library to parse command line arguments."
   ]
  },
  {
   "cell_type": "code",
   "execution_count": 1,
   "metadata": {},
   "outputs": [
    {
     "name": "stdout",
     "output_type": "stream",
     "text": [
      "[jbang] File /Users/manderse/code/jbangdev/jbang-jupyter-tutorial/src/hello.java already exists. Will not initialize.\n"
     ]
    }
   ],
   "source": [
    "!jbang init -t cli src/hello.java"
   ]
  },
  {
   "attachments": {},
   "cell_type": "markdown",
   "metadata": {},
   "source": [
    "You should now have a file called `hello.java` in the `src` directory.  You can open it and see the code.\n",
    "\n",
    "If you are running VSCode or a variant of it, it should have offered to install IDE extensions for Java and JBang.  If you accept, you should now have a Java extension pack installed.  This will give you syntax highlighting, code completion, etc.\n",
    "\n",
    "### Run the program\n",
    "\n",
    "To run the program, we use the `jbang` command again.  The following block will run the program without any arguments."
   ]
  },
  {
   "cell_type": "code",
   "execution_count": 2,
   "metadata": {},
   "outputs": [
    {
     "name": "stdout",
     "output_type": "stream",
     "text": [
      "Hello World!\n"
     ]
    }
   ],
   "source": [
    "!jbang src/hello.java"
   ]
  },
  {
   "attachments": {},
   "cell_type": "markdown",
   "metadata": {},
   "source": [
    "If you run the program with `--help` as argument you should see the help text for the program.\n",
    "\n",
    "This feature is provided by the [Picocli](https://picocli.info) library."
   ]
  },
  {
   "cell_type": "code",
   "execution_count": 3,
   "metadata": {},
   "outputs": [
    {
     "name": "stdout",
     "output_type": "stream",
     "text": [
      "Usage: \u001b[1mhello\u001b[21m\u001b[0m [\u001b[33m-hV\u001b[39m\u001b[0m] \u001b[33m<greeting>\u001b[39m\u001b[0m\n",
      "hello made with jbang\n",
      "\u001b[33m \u001b[39m\u001b[0m     \u001b[33m<greeting>\u001b[39m\u001b[0m   The greeting to print\n",
      "  \u001b[33m-h\u001b[39m\u001b[0m, \u001b[33m--help\u001b[39m\u001b[0m       Show this help message and exit.\n",
      "  \u001b[33m-V\u001b[39m\u001b[0m, \u001b[33m--version\u001b[39m\u001b[0m    Print version information and exit.\n"
     ]
    }
   ],
   "source": [
    "!jbang src/hello.java --help"
   ]
  },
  {
   "attachments": {},
   "cell_type": "markdown",
   "metadata": {},
   "source": [
    "## Using dependencies\n",
    "\n",
    "In the example above we used the [Picocli](https://picocli.info) library to parse command line arguments.  This is a very common use case.  The `//DEPS` line adds the [Picocli](https://picocli.info) library as a dependency to the program.\n",
    "\n",
    "```java\n",
    "//DEPS info.picocli:picocli:4.6.3\n",
    "```\n",
    "\n",
    "The `//DEPS` line is a special comment that tells JBang to download the library and add it to the classpath when running the program. The format used here is `groupId:artifactId:version`.  Where `groupId` and `artifactId` is the Maven coordinates of the library and `version` is the version of the library to use. You can find the Maven coordinates for a library on [Maven Central](https://search.maven.org/)."
   ]
  },
  {
   "attachments": {},
   "cell_type": "markdown",
   "metadata": {},
   "source": []
  },
  {
   "cell_type": "markdown",
   "metadata": {},
   "source": []
  }
 ],
 "metadata": {
  "kernelspec": {
   "display_name": "Python 3",
   "language": "python",
   "name": "python3"
  },
  "language_info": {
   "codemirror_mode": {
    "name": "ipython",
    "version": 3
   },
   "file_extension": ".py",
   "mimetype": "text/x-python",
   "name": "python",
   "nbconvert_exporter": "python",
   "pygments_lexer": "ipython3",
   "version": "3.11.1"
  },
  "orig_nbformat": 4
 },
 "nbformat": 4,
 "nbformat_minor": 2
}
