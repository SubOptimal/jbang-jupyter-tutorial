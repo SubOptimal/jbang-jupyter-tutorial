{
 "cells": [
  {
   "attachments": {},
   "cell_type": "markdown",
   "metadata": {},
   "source": [
    "# Trying out Java\n",
    "\n",
    "Java has a reputation of being complex and difficult to learn and difficult to setup.  This is not true (anymore).\n",
    "This notebook shows you how to get started with Java in a few minutes using [JBang](https://jbang.dev).  \n"
   ]
  },
  {
   "attachments": {},
   "cell_type": "markdown",
   "metadata": {},
   "source": [
    "## Install/Setup JBang\n",
    "\n",
    "Lets start by installing `jbang`. The following block will attempt to install `jbang` for you using `curl` on Linux/OSX or `PowerShell` on Windows + setting up PATH so the `jbang` command is visible to the notebook. \n",
    "\n",
    "If the install does not work for you, please see the [JBang download page](https://jbang.dev/download) for other options."
   ]
  },
  {
   "cell_type": "code",
   "execution_count": null,
   "metadata": {},
   "outputs": [],
   "source": [
    "import os\n",
    "\n",
    "if os.name == 'nt':\n",
    "    !iex \"& { $(iwr https://ps.jbang.dev) } app setup\"\n",
    "else:\n",
    "    !curl -Ls https://sh.jbang.dev | bash -s - app setup\n",
    "\n",
    "os.environ[\"PATH\"] = os.path.expanduser('~/.jbang/bin') + os.pathsep + os.environ[\"PATH\"]"
   ]
  },
  {
   "attachments": {},
   "cell_type": "markdown",
   "metadata": {},
   "source": [
    "## Verify JBang is installed\n",
    "\n",
    "Now lets verify that `jbang` is installed and working.  The following block will attempt to run `jbang` and print out the version.  If you see a version number, you are good to go."
   ]
  },
  {
   "cell_type": "code",
   "execution_count": null,
   "metadata": {},
   "outputs": [],
   "source": [
    "!jbang version"
   ]
  },
  {
   "attachments": {},
   "cell_type": "markdown",
   "metadata": {},
   "source": [
    "## How about Java installation ?\n",
    "\n",
    "JBang will automatically use the latest Java version available on your system.  If no suitable Java version is found, it will download and install one for you."
   ]
  },
  {
   "attachments": {},
   "cell_type": "markdown",
   "metadata": {},
   "source": [
    "## Lets try out Java\n",
    "\n",
    "Now lets try out Java.  The following block will attempt to run a simple Java program using `jbang`.  The smallest `Hello World` program you can write in Java!"
   ]
  },
  {
   "cell_type": "code",
   "execution_count": null,
   "metadata": {},
   "outputs": [],
   "source": [
    "!jbang -c 'println(\"Hello World!\")'"
   ]
  },
  {
   "attachments": {},
   "cell_type": "markdown",
   "metadata": {},
   "source": [
    "### Arguments \n",
    "\n",
    "You can pass arguments to the program by adding them after the code.  The following block will pass the arguments `Universe` and use `String.format()` to render a string with the first argument in the `args` array."
   ]
  },
  {
   "cell_type": "code",
   "execution_count": null,
   "metadata": {},
   "outputs": [],
   "source": [
    "!jbang -c 'println(String.format(\"Hello %s\", args[0]))' Universe"
   ]
  },
  {
   "attachments": {},
   "cell_type": "markdown",
   "metadata": {},
   "source": [
    "## First Java program\n",
    "\n",
    "Now lets try creating a Java program that use library dependencies to do something more useful.  The following block will create a file called `hello.java` that uses the [Picocli](https://picocli.info) library to parse command line arguments."
   ]
  },
  {
   "cell_type": "code",
   "execution_count": null,
   "metadata": {},
   "outputs": [],
   "source": [
    "!jbang init -t cli src/hello.java"
   ]
  },
  {
   "cell_type": "code",
   "execution_count": null,
   "metadata": {},
   "outputs": [],
   "source": []
  }
 ],
 "metadata": {
  "kernelspec": {
   "display_name": "Python 3",
   "language": "python",
   "name": "python3"
  },
  "language_info": {
   "codemirror_mode": {
    "name": "ipython",
    "version": 3
   },
   "file_extension": ".py",
   "mimetype": "text/x-python",
   "name": "python",
   "nbconvert_exporter": "python",
   "pygments_lexer": "ipython3",
   "version": "3.10.4"
  },
  "orig_nbformat": 4
 },
 "nbformat": 4,
 "nbformat_minor": 2
}
